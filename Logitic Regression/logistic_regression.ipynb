{
 "cells": [
  {
   "cell_type": "code",
   "execution_count": 1,
   "metadata": {},
   "outputs": [],
   "source": [
    "import matplotlib.pyplot as plt\n",
    "import numpy as np"
   ]
  },
  {
   "attachments": {},
   "cell_type": "markdown",
   "metadata": {},
   "source": [
    "## Formule de la fonction sigmoide. \n",
    "\n",
    "$$g(z)=\\frac{1}{1+e^{-z}}$$\n",
    "\n",
    "### Notes : \n",
    "Dans le cadre de la régression logistique, $z$ est le résultat d'un modèle de regression linéaire : \n",
    "- dans le cas d'un set à un exemple, $z$ est un nombre entier (scalar)\n",
    "- dans le cas d'exemple multiple, $z$ peut être un vecteur $\\vec{z}\\ $ a   $\\ m$ valeurs, un pour chaque exemple. \n",
    "- lors de l'implementation en python, faire en sorte de couvrir les deux situations.\n",
    "\n",
    "## Formule de la Regression Logistique\n",
    "\n",
    "\n",
    "$$ \n",
    "\n",
    "\n",
    "f_{W,b}(X^{(i)}) =g(W\\cdot X^{(i)} + b )\n",
    "\\\\\n",
    "où \\\\\n",
    "\\\\\n",
    "g(z)=\\frac{1}{1+e^{-z}} \\\\\n",
    "Soit \\\\\n",
    "f_{\\vec{W}, b}( \\vec{X} )=g(\\vec{W}\\cdot\\vec{X} + b) = \\frac{1}{1+e^{-(\\vec{W}\\cdot \\ \\vec{X} + b)}}\\\\\n",
    "= P(y= 1|x;\\vec{w}, b)\n",
    "$$"
   ]
  },
  {
   "attachments": {},
   "cell_type": "markdown",
   "metadata": {},
   "source": [
    "On peut exprimer ici $f(x)$ est la probabilité que y soit égale a 1, exprimé en pourcentage. \n",
    "Soit si $y=0.3$, y a 30% de chance d'être positif (1) et donc 70% de chance d'être négatif.\n",
    "On peut appliquer un marqueur à 50%, qui permet de dire : \n",
    "$$\n",
    "Is \\ f_{\\vec{W},b}\\geq 0.5 ? \\\\\n",
    "Yes : \\ \\hat{y} = 1\\\\\n",
    "No : \\ \\hat{y} = 0\\\\\n",
    "$$"
   ]
  },
  {
   "attachments": {},
   "cell_type": "markdown",
   "metadata": {},
   "source": [
    "## Decision Boundary : \n",
    "\n",
    "Comment pouvons nous déduire un Yes / No, ou True / False ? \n",
    "Si on regarde la sigmoide : "
   ]
  },
  {
   "cell_type": "code",
   "execution_count": 2,
   "metadata": {},
   "outputs": [
    {
     "data": {
      "text/plain": [
       "Text(0, 0.5, 'sigmoid(z)')"
      ]
     },
     "execution_count": 2,
     "metadata": {},
     "output_type": "execute_result"
    },
    {
     "data": {
      "image/png": "[encoded data removed]",
      "text/plain": [
       "<Figure size 640x480 with 1 Axes>"
      ]
     },
     "metadata": {},
     "output_type": "display_data"
    }
   ],
   "source": [
    "z = np.linspace(-10, 10, 100) \n",
    "def sigmoid(z):\n",
    "    return 1/(1 + np.exp(-z))\n",
    "\n",
    "a = sigmoid(z)\n",
    "plt.plot(z, a) \n",
    "plt.xlabel(\"z\") \n",
    "plt.ylabel(\"sigmoid(z)\")"
   ]
  },
  {
   "attachments": {},
   "cell_type": "markdown",
   "metadata": {},
   "source": [
    "On peut se demander : \n",
    "\n",
    "Quand $\\ f_{\\vec{W},b}$ est-il $\\geq 0.5 $?\n",
    "$$\n",
    "g(z)\\geq 0.5\\\\\n",
    "z\\geq 0\\\\\n",
    "Donc : \\\\\n",
    "Quand \\\\ W\\cdot X^{(i)} + b \\geq 0\\\\\n",
    "Alors \\\\\n",
    "\\hat{y} = 1\n",
    "$$\n",
    "\n",
    "La \"Decision boundary\" est la ligne représenté par l'équation $$ z = \\vec{W}\\cdot\\vec{X}+b = 0 $$ \n",
    "C'est valable pour les cas où la decision boundary est effectivement une fonction linéaire. \n",
    "\n",
    "L'utilisation de polynomials dans la regression logistique permet d'avoir des decision boundary non linéaires. "
   ]
  },
  {
   "attachments": {},
   "cell_type": "markdown",
   "metadata": {},
   "source": [
    "# Cost Function pour la régression logistique \n",
    "\n",
    "La squared error cost function de la regression linéaire n'est pas la cost function idéale pour la régression logistique. \n",
    "Car la cost function J, soit $J_{(\\vec{w},b)} = \\frac{1}{2m}\\sum_{i-0}^{m}(f_{(\\vec{w},b)}(\\vec{X}^{(i)})-y^{(i)})^2 $ est une fonction convexe qui permet l'utilisation de gradient descent jusqu'a la convergence. Or la squared error cost fonction de la regression logitique est non convexe. \n",
    "\n"
   ]
  },
  {
   "attachments": {},
   "cell_type": "markdown",
   "metadata": {},
   "source": [
    "## Loss Function : \n",
    "\n",
    "\n",
    "$$\n",
    "L(f_{\\vec{w},b}(\\vec{X}^{(i)}),y^{(i)}) = \\left\\{\n",
    "  \\begin{array}{ll}\n",
    "    -\\log(f_{\\vec{w},b}(\\vec{X}^{(i)})) & \\text{if $y=1$} \\\\\n",
    "    -\\log(1-f_{\\vec{w},b}(\\vec{X}^{(i)})) & \\text{if $y=0$}\n",
    "  \\end{array}\n",
    "\\right.\n",
    "$$"
   ]
  },
  {
   "attachments": {},
   "cell_type": "markdown",
   "metadata": {},
   "source": [
    "Soit la cost function suivante : \n",
    "\n",
    "$$\n",
    "J(\\vec{W},b) = \\frac{1}{m}\\sum_{i=1}^{m}L(f_{\\vec{w},b}(\\vec{X}^{(i)}),y^{(i)}) \\\\\n",
    "$$\n",
    "\n",
    "On admet que cette fonction est convexe et que l'on peut atteindre un minimum global, et donc utiliser Gradient Descent"
   ]
  },
  {
   "attachments": {},
   "cell_type": "markdown",
   "metadata": {},
   "source": [
    "## Simplified Cost Function for Logistic Regression\n",
    "\n",
    "Pour pourvoir accepter que y soit soit 0 soit 1 et utiliser qu'une seule équation, on doit reformuler la loss function ainsi : \n",
    "\n",
    "$$\n",
    "L(f_{\\vec{w},b}(\\vec{X}^{(i)}),y^{(i)}) = \n",
    "\n",
    "    -y^{(i)}\\log(f_{\\vec{w},b}(\\vec{X}^{(i)}))\n",
    "    -(1-y^{(i)})\\log(1-f_{\\vec{w},b}(\\vec{X}^{(i)})) \n",
    "\n",
    "\n",
    "$$"
   ]
  },
  {
   "attachments": {},
   "cell_type": "markdown",
   "metadata": {},
   "source": [
    "Pour finir on peut écrire la cost function J en sortant le signe négatif et en intégrant la loss function simplifiée ainsi : \n",
    "\n",
    "$$\n",
    "J(\\vec{W},b) = -\\frac{1}{m}\\sum_{i=1}^{m}    \\ [ \\ y^{(i)}\\log(f_{\\vec{w},b}(\\vec{X}^{(i)}))+(1-y^{(i)})\\log(1-f_{\\vec{w},b}(\\vec{X}^{(i)})) \\ ]\n",
    "\n",
    "$$\n",
    "\n",
    "Cette cost function vient des statistiques : maximum likelihood. "
   ]
  },
  {
   "cell_type": "code",
   "execution_count": 3,
   "metadata": {},
   "outputs": [],
   "source": [
    "y_train = np.array([0,  0, 0, 1, 1, 1])\n",
    "pos = y_train == 1\n",
    "neg = y_train == 0\n",
    "\n"
   ]
  },
  {
   "cell_type": "code",
   "execution_count": 7,
   "metadata": {},
   "outputs": [
    {
     "name": "stdout",
     "output_type": "stream",
     "text": [
      "[0 0 0]\n"
     ]
    }
   ],
   "source": [
    "print(y_train[neg])"
   ]
  }
 ],
 "metadata": {
  "kernelspec": {
   "display_name": "MLKaggle",
   "language": "python",
   "name": "python3"
  },
  "language_info": {
   "codemirror_mode": {
    "name": "ipython",
    "version": 3
   },
   "file_extension": ".py",
   "mimetype": "text/x-python",
   "name": "python",
   "nbconvert_exporter": "python",
   "pygments_lexer": "ipython3",
   "version": "3.11.3"
  },
  "orig_nbformat": 4
 },
 "nbformat": 4,
 "nbformat_minor": 2
}
