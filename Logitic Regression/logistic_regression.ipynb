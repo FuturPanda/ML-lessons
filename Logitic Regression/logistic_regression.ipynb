{
 "cells": [
  {
   "cell_type": "code",
   "execution_count": null,
   "metadata": {},
   "outputs": [],
   "source": []
  },
  {
   "attachments": {},
   "cell_type": "markdown",
   "metadata": {},
   "source": [
    "## Formule de la fonction sigmoide. \n",
    "\n",
    "$$g(z)=\\frac{1}{1+e^{-z}}$$\n",
    "\n",
    "### Notes : \n",
    "Dans le cadre de la régression logistique, $z$ est le résultat d'un modèle de regression linéaire : \n",
    "- dans le cas d'un set à un exemple, $z$ est un nombre entier (scalar)\n",
    "- dans le cas d'exemple multiple, $z$ peut être un vecteur $\\vec{z}\\ $ a   $\\ m$ valeurs, un pour chaque exemple. \n",
    "- lors de l'implementation en python, faire en sorte de couvrir les deux situations.\n",
    "\n",
    "## Formule de la Regression Logistique\n",
    "\n",
    "\n",
    "$$ \n",
    "\n",
    "\n",
    "f_{W,b}(X^{(i)}) =g(W\\cdot X^{(i)} + b )\n",
    "\\\\\n",
    "où \\\\\n",
    "\\\\\n",
    "g(z)=\\frac{1}{1+e^{-z}} \\\\\n",
    "Soit \\\\\n",
    "f_{\\vec{W}, b}( \\vec{X} )=g(\\vec{W}\\cdot\\vec{X} + b) = \\frac{1}{1+e^{-(\\vec{W}\\cdot \\ \\vec{X} + b)}}\\\\\n",
    "= P(y= 1|x;\\vec{w}, b)\n",
    "$$"
   ]
  },
  {
   "attachments": {},
   "cell_type": "markdown",
   "metadata": {},
   "source": [
    "On peut exprimer ici $f(x)$ est la probabilité que y soit égale a 1, exprimé en pourcentage. \n",
    "Soit si $y=0.3$, y a 30% de chance d'être positif (1) et donc 70% de chance d'être négatif.\n",
    "On peut appliquer un marqueur à 50%, qui permet de dire : \n",
    "$$\n",
    "Is  f_(\\vec{w},b)>= 0.5 ? \n",
    "Yes : \\hat{y} = 1\n",
    "No : \\hat{y} = 0\n",
    "$$"
   ]
  },
  {
   "attachments": {},
   "cell_type": "markdown",
   "metadata": {},
   "source": []
  }
 ],
 "metadata": {
  "language_info": {
   "name": "python"
  },
  "orig_nbformat": 4
 },
 "nbformat": 4,
 "nbformat_minor": 2
}
